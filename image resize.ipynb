{
 "cells": [
  {
   "cell_type": "code",
   "execution_count": null,
   "id": "30dc7b70",
   "metadata": {},
   "outputs": [
    {
     "name": "stdout",
     "output_type": "stream",
     "text": [
      "Original Dimensions :  (1800, 2880, 4)\n",
      "resized image saved in your source code folder\n"
     ]
    }
   ],
   "source": [
    "import cv2 \n",
    "img = cv2.imread(\"1.jpeg\", cv2.IMREAD_UNCHANGED) \n",
    "\n",
    "#resize  image width & hight\n",
    "width = 800\n",
    "height = 440 \n",
    "\n",
    "dim = (width, height)\n",
    "\n",
    "# resize image\n",
    "resized = cv2.resize(img, dim, interpolation = cv2.INTER_AREA)\n",
    "\n",
    "#print('Resized Dimensions : ',resized.shape)\n",
    "\n",
    "cv2.imwrite(\"resized.jpeg\",resized)    #change location if you want to save image\n",
    "print(\"resized image saved in your source code folder\") \n",
    "cv2.imshow(\"Resized image\", resized)\n",
    "cv2.waitKey(0)\n",
    "cv2.destroyAllWindows()"
   ]
  },
  {
   "cell_type": "code",
   "execution_count": null,
   "id": "99283446",
   "metadata": {},
   "outputs": [],
   "source": []
  },
  {
   "cell_type": "code",
   "execution_count": null,
   "id": "ff848435",
   "metadata": {},
   "outputs": [],
   "source": []
  }
 ],
 "metadata": {
  "kernelspec": {
   "display_name": "Python 3 (ipykernel)",
   "language": "python",
   "name": "python3"
  },
  "language_info": {
   "codemirror_mode": {
    "name": "ipython",
    "version": 3
   },
   "file_extension": ".py",
   "mimetype": "text/x-python",
   "name": "python",
   "nbconvert_exporter": "python",
   "pygments_lexer": "ipython3",
   "version": "3.9.7"
  }
 },
 "nbformat": 4,
 "nbformat_minor": 5
}
